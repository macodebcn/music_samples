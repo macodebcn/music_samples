{
  "metadata": {
    "kernelspec": {
      "language": "python",
      "display_name": "Python 3",
      "name": "python3"
    },
    "language_info": {
      "name": "python",
      "version": "3.10.12",
      "mimetype": "text/x-python",
      "codemirror_mode": {
        "name": "ipython",
        "version": 3
      },
      "pygments_lexer": "ipython3",
      "nbconvert_exporter": "python",
      "file_extension": ".py"
    },
    "kaggle": {
      "accelerator": "none",
      "dataSources": [],
      "dockerImageVersionId": 30635,
      "isInternetEnabled": true,
      "language": "python",
      "sourceType": "notebook",
      "isGpuEnabled": false
    },
    "colab": {
      "name": "Autumn_leaves_test",
      "provenance": [],
      "include_colab_link": true
    }
  },
  "nbformat_minor": 0,
  "nbformat": 4,
  "cells": [
    {
      "cell_type": "markdown",
      "metadata": {
        "id": "view-in-github",
        "colab_type": "text"
      },
      "source": [
        "<a href=\"https://colab.research.google.com/github/macodebcn/music_samples/blob/main/Autumn_leaves_notes_prediction%231.ipynb\" target=\"_parent\"><img src=\"https://colab.research.google.com/assets/colab-badge.svg\" alt=\"Open In Colab\"/></a>"
      ]
    },
    {
      "cell_type": "markdown",
      "source": [
        "Dear music lovers, this is another way to look at melodies, at music in general, to search for trends... and why not... to imagine, predict other possibilities.\n",
        "\n",
        "In summary, it's about finding details, nuances, subtleties that we would not see otherwise.\n",
        "\n",
        "This is just a preview; the analysis of one of Mozart's most famous piano concertos is underway.\n",
        "\n",
        "Those of you who know me, know that I \"dig\" jazz, so for this example, I've used a very well-known standard.\n",
        "\n",
        "As always, it's about eliminating biases when talking about music, so I invite you to revisit how we analyze and teach music.\n",
        "\n",
        "We need fresh air beyond the use of technology for recommendations, or to create artificial music... we should take advantage of the opportunity that the 21st century offers us to go further, to fully incorporate ourselves into the new century without losing sight of what we have already obtained from the previous ones.\n",
        "\n",
        "So I'm not talking about breaks, but about new fits.\n",
        "\n",
        "Below, as a continuation of the exercise, I have added (with the help of GPT to train the model) a possible prediction of 30 more notes... I have not validated the model because this is not a uni exercise, nor are we going to sell the idea (for now) to any music chair, but it does have an interesting pedagogical value, in my opinion...\n",
        "\n",
        "Imagine... how Mozart would have completed his Requiem if he had not left indications... or... we could eliminate a fragment of the Ninth and replace it with a prediction...\n",
        "\n",
        "Yes, I know, but it's just for fun.\n",
        "\n",
        "It's an exercise that is part of a larger project that, I hope, I will be developing over time.\n",
        "\n",
        "My real interest is focused on \"sentiment analysis\".\n",
        "\n",
        "Music teaching must be \"up to date\", an explanation based on the analysis of the score often entails many biases, hence, along with this and another project on this page, I propose to give a new approach to the matter.\n",
        "\n",
        "If you are interested in knowing more, please contact me wherever you have seen this link, there is surely some way to do it.\n",
        "\n",
        "Blablabla... bla...\n",
        "\n",
        "Moving on to more musical aspects, the song is in the key of Bb (major).\n",
        "Now, draw your conclusions.\n",
        "🎵👇"
      ],
      "metadata": {
        "id": "S3pKM85Uyzpl"
      }
    },
    {
      "cell_type": "code",
      "source": [
        "import matplotlib.pyplot as plt\n",
        "from collections import Counter\n",
        "\n",
        "# estas son las notas de la canciones...¡si no me he dejado ninguna!\n",
        "notas = ['G', 'A', 'Bb', 'Eb', 'Eb', 'F', 'G', 'A', 'D', 'D', 'D', 'E', 'F', 'G', 'C', 'C', 'D', 'E', 'F#', 'Bb', 'G', 'A', 'Bb', 'Eb', 'Eb', 'F', 'G', 'A', 'D', 'D', 'Eb', 'F', 'G', 'C', 'C', 'A', 'C', 'Bb', 'G', 'F#', 'G', 'A', 'D', 'A', 'A', 'A', 'Bb', 'Bb', 'Bb', 'A', 'Bb', 'C', 'C', 'F', 'F', 'Eb', 'Bb', 'Bb', 'A', 'Bb', 'C', 'C', 'F', 'F', 'Eb', 'D', 'D', 'C#', 'D', 'Eb', 'Eb', 'C', 'C', 'A', 'Eb', 'D', 'D', 'D', 'G', 'C', 'Bb', 'A', 'Bb', 'D', 'G']\n",
        "\n",
        "# contamos la frecuencia de cada nota\n",
        "frecuencia_notas = Counter(notas)\n",
        "\n",
        "# creamos el gráfico de frecuencias con la librería <matplotlib>\n",
        "plt.bar(frecuencia_notas.keys(), frecuencia_notas.values())\n",
        "plt.xlabel('Notas')\n",
        "plt.ylabel('Frecuencia')\n",
        "plt.title('Frecuencia de las notas en la canción')\n",
        "plt.show()\n"
      ],
      "metadata": {
        "execution": {
          "iopub.status.busy": "2024-01-20T13:57:07.395848Z",
          "iopub.execute_input": "2024-01-20T13:57:07.396404Z",
          "iopub.status.idle": "2024-01-20T13:57:07.748391Z",
          "shell.execute_reply.started": "2024-01-20T13:57:07.396354Z",
          "shell.execute_reply": "2024-01-20T13:57:07.74662Z"
        },
        "trusted": true,
        "id": "KxRxEY2Oyzpp"
      },
      "execution_count": null,
      "outputs": []
    },
    {
      "cell_type": "code",
      "source": [
        "# y...qué pasaría si tuviésemos 30 notas más...esta es la predicción\n",
        "\n",
        "import matplotlib.pyplot as plt\n",
        "from collections import Counter\n",
        "from sklearn.preprocessing import LabelEncoder\n",
        "from sklearn.neural_network import MLPClassifier\n",
        "import numpy as np\n",
        "\n",
        "# Notas\n",
        "notas = ['G', 'A', 'Bb', 'Eb', 'Eb', 'F', 'G', 'A', 'D', 'D', 'D', 'E', 'F', 'G', 'C', 'C', 'D', 'E', 'F#', 'Bb', 'G', 'A', 'Bb', 'Eb', 'Eb', 'F', 'G', 'A', 'D', 'D', 'Eb', 'F', 'G', 'C', 'C', 'A', 'C', 'Bb', 'G', 'F#', 'G', 'A', 'D', 'A', 'A', 'A', 'Bb', 'Bb', 'Bb', 'A', 'Bb', 'C', 'C', 'F', 'F', 'Eb', 'Bb', 'Bb', 'A', 'Bb', 'C', 'C', 'F', 'F', 'Eb', 'D', 'D', 'C#', 'D', 'Eb', 'Eb', 'C', 'C', 'A', 'Eb', 'D', 'D', 'D', 'G', 'C', 'Bb', 'A', 'Bb', 'D', 'G']\n",
        "\n",
        "# frecuencias de las notas\n",
        "frecuencias = Counter(notas)\n",
        "\n",
        "# gráfico de frecuencias\n",
        "plt.bar(frecuencias.keys(), frecuencias.values())\n",
        "plt.xlabel('Notas')\n",
        "plt.ylabel('Frecuencia')\n",
        "plt.title('Frecuencia de las notas en la canción')\n",
        "plt.show()\n",
        "\n",
        "# Función para decir cuántas veces aparece una nota\n",
        "def contar_nota(nota):\n",
        "    return frecuencias[nota]\n",
        "\n",
        "# notas como números enteros\n",
        "encoder = LabelEncoder()\n",
        "notas_codificadas = encoder.fit_transform(notas)\n",
        "\n",
        "#  entrenar el modelo\n",
        "X = []\n",
        "y = []\n",
        "for i in range(len(notas_codificadas) - 3):\n",
        "    X.append(notas_codificadas[i:i+3])\n",
        "    y.append(notas_codificadas[i+3])\n",
        "X = np.array(X)\n",
        "y = np.array(y)\n",
        "\n",
        "# entrenar modelo\n",
        "modelo = MLPClassifier(hidden_layer_sizes=(50,), max_iter=5000)\n",
        "modelo.fit(X, y)\n",
        "# predecir las próximas 30 notas\n",
        "notas_predichas = []\n",
        "for _ in range(30):\n",
        "    secuencia = notas_codificadas[-3:]\n",
        "    prediccion = modelo.predict([secuencia])\n",
        "    notas_codificadas = np.append(notas_codificadas, prediccion)\n",
        "    nota_predicha = encoder.inverse_transform(prediccion)[0]  # Obtener el primer elemento del array\n",
        "    notas_predichas.append(nota_predicha)  # Añadir la nota predicha a notas_predichas\n",
        "\n",
        "print(\"Las próximas 30 notas podrían ser:\", notas_predichas)\n",
        "\n",
        "# frecuencias de las notas predichas\n",
        "frecuencias_predichas = Counter(notas_predichas)\n",
        "\n",
        "# gráfico de frecuencias predichas\n",
        "plt.bar(frecuencias_predichas.keys(), frecuencias_predichas.values())\n",
        "plt.xlabel('Notas')\n",
        "plt.ylabel('Frecuencia')\n",
        "plt.title('Frecuencia de las notas predichas en la canción')\n",
        "plt.show()\n"
      ],
      "metadata": {
        "execution": {
          "iopub.status.busy": "2024-01-20T14:09:19.242592Z",
          "iopub.execute_input": "2024-01-20T14:09:19.243045Z",
          "iopub.status.idle": "2024-01-20T14:09:21.511941Z",
          "shell.execute_reply.started": "2024-01-20T14:09:19.243009Z",
          "shell.execute_reply": "2024-01-20T14:09:21.510658Z"
        },
        "trusted": true,
        "id": "OJNvnEV1yzpq"
      },
      "execution_count": null,
      "outputs": []
    }
  ]
}